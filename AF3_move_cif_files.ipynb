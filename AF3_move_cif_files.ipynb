{
  "nbformat": 4,
  "nbformat_minor": 0,
  "metadata": {
    "colab": {
      "provenance": [],
      "mount_file_id": "1wAMWtAPZ6gO4MyYFczZDXSts_9ecHSvB",
      "authorship_tag": "ABX9TyO1ut5xFHLm94CZKqitPfwC",
      "include_colab_link": true
    },
    "kernelspec": {
      "name": "python3",
      "display_name": "Python 3"
    },
    "language_info": {
      "name": "python"
    }
  },
  "cells": [
    {
      "cell_type": "markdown",
      "metadata": {
        "id": "view-in-github",
        "colab_type": "text"
      },
      "source": [
        "<a href=\"https://colab.research.google.com/github/eoinleen/Biophysics-general/blob/main/AF3_move_cif_files.ipynb\" target=\"_parent\"><img src=\"https://colab.research.google.com/assets/colab-badge.svg\" alt=\"Open In Colab\"/></a>"
      ]
    },
    {
      "cell_type": "code",
      "execution_count": 2,
      "metadata": {
        "colab": {
          "base_uri": "https://localhost:8080/"
        },
        "id": "Fey-2TIzyJ1s",
        "outputId": "8c47c429-da98-4362-eaea-7af13e11c696"
      },
      "outputs": [
        {
          "output_type": "stream",
          "name": "stdout",
          "text": [
            "Drive already mounted at /content/drive; to attempt to forcibly remount, call drive.mount(\"/content/drive\", force_remount=True).\n",
            "Starting file processing...\n",
            "Processed 10 folders...\n",
            "Processed 20 folders...\n",
            "Processing complete!\n",
            "Processed 21 folders\n",
            "Copied 100 CIF files to the all_cif_files directory\n",
            "Copied 20 model_0 CIF files to the model0_cif_files directory\n",
            "All CIF files saved to: /content/drive/MyDrive/PDB-files/AF3-recalc_folds_2025_03_08_19_33/all_cif_files\n",
            "Model 0 CIF files saved to: /content/drive/MyDrive/PDB-files/AF3-recalc_folds_2025_03_08_19_33/model0_cif_files\n"
          ]
        }
      ],
      "source": [
        "# ==============================================================================\n",
        "# AF3 Structure File Organizer\n",
        "# ==============================================================================\n",
        "#\n",
        "# DESCRIPTION:\n",
        "#     This script organizes AlphaFold3 structure files (.cif) from multiple\n",
        "#     subdirectories into two consolidated directories for easier access:\n",
        "#       1. all_cif_files - Contains all .cif structure files\n",
        "#       2. model0_cif_files - Contains only the model_0.cif files (top ranked models)\n",
        "#\n",
        "# USAGE:\n",
        "#     1. Mount your Google Drive\n",
        "#     2. Update the base_dir path to your AF3 directory\n",
        "#     3. Run the script\n",
        "#\n",
        "# INPUTS:\n",
        "#     - base_dir: Path to directory containing AF3 structure folders\n",
        "#\n",
        "# OUTPUTS:\n",
        "#     - Two new directories created in base_dir:\n",
        "#       * all_cif_files - All .cif files, renamed with folder prefix\n",
        "#       * model0_cif_files - Only model_0.cif files, renamed with folder prefix\n",
        "#\n",
        "# NOTES:\n",
        "#     - Original files remain untouched\n",
        "#     - Files are copied with naming format: [folder_name]_[original_file_name]\n",
        "#     - Progress is displayed every 10 folders processed\n",
        "#\n",
        "# CREATED: March 10, 2025\n",
        "# ==============================================================================\n",
        "\n",
        "\n",
        "import os\n",
        "import shutil\n",
        "from google.colab import drive\n",
        "\n",
        "# Mount Google Drive\n",
        "drive.mount('/content/drive')\n",
        "\n",
        "# Set your base directory path - update this with your actual path\n",
        "base_dir = '/content/drive/MyDrive/PDB-files/AF3-recalc_folds_2025_03_08_19_33'  # Update this path\n",
        "\n",
        "# Create output directories if they don't exist\n",
        "all_cif_dir = os.path.join(base_dir, 'all_cif_files')\n",
        "model0_cif_dir = os.path.join(base_dir, 'model0_cif_files')\n",
        "\n",
        "os.makedirs(all_cif_dir, exist_ok=True)\n",
        "os.makedirs(model0_cif_dir, exist_ok=True)\n",
        "\n",
        "# Process directories\n",
        "processed_folders = 0\n",
        "processed_files = 0\n",
        "model0_files = 0\n",
        "\n",
        "print(\"Starting file processing...\")\n",
        "\n",
        "# Walk through all folders in the base directory\n",
        "for folder_name in os.listdir(base_dir):\n",
        "    folder_path = os.path.join(base_dir, folder_name)\n",
        "\n",
        "    # Skip if it's not a directory or is one of our output directories\n",
        "    if not os.path.isdir(folder_path) or folder_name in ['all_cif_files', 'model0_cif_files']:\n",
        "        continue\n",
        "\n",
        "    # Look for CIF files in this folder\n",
        "    for file_name in os.listdir(folder_path):\n",
        "        if file_name.endswith('.cif'):\n",
        "            cif_path = os.path.join(folder_path, file_name)\n",
        "\n",
        "            # Copy to all_cif directory with folder name prefix\n",
        "            dest_file_name = f\"{folder_name}_{file_name}\"\n",
        "            all_cif_path = os.path.join(all_cif_dir, dest_file_name)\n",
        "\n",
        "            shutil.copy(cif_path, all_cif_path)\n",
        "            processed_files += 1\n",
        "\n",
        "            # If this is a model_0, also copy to model0 directory\n",
        "            if 'model_0' in file_name:\n",
        "                model0_cif_path = os.path.join(model0_cif_dir, dest_file_name)\n",
        "                shutil.copy(cif_path, model0_cif_path)\n",
        "                model0_files += 1\n",
        "\n",
        "    processed_folders += 1\n",
        "    if processed_folders % 10 == 0:\n",
        "        print(f\"Processed {processed_folders} folders...\")\n",
        "\n",
        "print(f\"Processing complete!\")\n",
        "print(f\"Processed {processed_folders} folders\")\n",
        "print(f\"Copied {processed_files} CIF files to the all_cif_files directory\")\n",
        "print(f\"Copied {model0_files} model_0 CIF files to the model0_cif_files directory\")\n",
        "print(f\"All CIF files saved to: {all_cif_dir}\")\n",
        "print(f\"Model 0 CIF files saved to: {model0_cif_dir}\")"
      ]
    },
    {
      "cell_type": "code",
      "source": [
        "from google.colab import drive\n",
        "drive.mount('/content/drive')"
      ],
      "metadata": {
        "colab": {
          "base_uri": "https://localhost:8080/"
        },
        "id": "4cT93mQDyNA5",
        "outputId": "71e17ef8-91b5-444d-93cf-2e07f552d5cc"
      },
      "execution_count": 3,
      "outputs": [
        {
          "output_type": "stream",
          "name": "stdout",
          "text": [
            "Drive already mounted at /content/drive; to attempt to forcibly remount, call drive.mount(\"/content/drive\", force_remount=True).\n"
          ]
        }
      ]
    }
  ]
}