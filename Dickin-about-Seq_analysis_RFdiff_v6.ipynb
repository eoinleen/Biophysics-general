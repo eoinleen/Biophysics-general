{
  "nbformat": 4,
  "nbformat_minor": 0,
  "metadata": {
    "colab": {
      "provenance": [],
      "mount_file_id": "https://github.com/eoinleen/Protein-design-random/blob/main/Seq_analysis_RFdiff_v4.ipynb",
      "authorship_tag": "ABX9TyM7Bdstf7tKut1VtipcQBI/",
      "include_colab_link": true
    },
    "kernelspec": {
      "name": "python3",
      "display_name": "Python 3"
    },
    "language_info": {
      "name": "python"
    }
  },
  "cells": [
    {
      "cell_type": "markdown",
      "metadata": {
        "id": "view-in-github",
        "colab_type": "text"
      },
      "source": [
        "<a href=\"https://colab.research.google.com/github/eoinleen/Biophysics-general/blob/main/Dickin-about-Seq_analysis_RFdiff_v6.ipynb\" target=\"_parent\"><img src=\"https://colab.research.google.com/assets/colab-badge.svg\" alt=\"Open In Colab\"/></a>"
      ]
    },
    {
      "cell_type": "code",
      "execution_count": null,
      "metadata": {
        "colab": {
          "base_uri": "https://localhost:8080/"
        },
        "id": "AJ2WyL3YufKK",
        "outputId": "f6f8f6ba-ca0d-4ae5-d8fe-e8dd01024d3c"
      },
      "outputs": [
        {
          "output_type": "stream",
          "name": "stdout",
          "text": [
            "Extracted 2048 sequences, saved to: /content/drive/MyDrive/Fasta-files/3NOB_90-110/analysis_output/extracted_sequences.fasta\n",
            "Encoding sequences...\n",
            "Computing distance matrix...\n",
            "Generating similarity heatmap...\n",
            "Creating phylogenetic tree...\n",
            "Tree visualization saved.\n",
            "Analysis complete. Results saved in /content/drive/MyDrive/Fasta-files/3NOB_90-110/analysis_output\n"
          ]
        }
      ],
      "source": [
        "import os\n",
        "import numpy as np\n",
        "import pandas as pd\n",
        "from Bio import SeqIO\n",
        "from Bio.Seq import Seq\n",
        "from Bio.SeqRecord import SeqRecord\n",
        "import seaborn as sns\n",
        "import matplotlib.pyplot as plt\n",
        "from sklearn.cluster import AgglomerativeClustering\n",
        "from scipy.spatial.distance import pdist, squareform\n",
        "from scipy.cluster import hierarchy\n",
        "from joblib import Parallel, delayed\n",
        "import re\n",
        "\n",
        "def extract_designed_sequences(input_file, output_file):\n",
        "    \"\"\"Extract designed sequences from RF_diffusion output and save to a new FASTA file.\"\"\"\n",
        "    if not os.path.exists(input_file):\n",
        "        raise FileNotFoundError(f\"Input file not found: {input_file}\")\n",
        "    os.makedirs(os.path.dirname(output_file), exist_ok=True)\n",
        "    extracted_sequences = []\n",
        "    design_lengths = set()\n",
        "\n",
        "    for idx, record in enumerate(SeqIO.parse(input_file, \"fasta\")):\n",
        "        try:\n",
        "            match = re.search(r'design:(\\d+).*n:(\\d+)', record.description)\n",
        "            if match:\n",
        "                new_id = f\"d{match.group(1)}_n{match.group(2)}\"\n",
        "\n",
        "                if '/' in str(record.seq):\n",
        "                    designed_seq = str(record.seq).split('/')[1].replace('-', '').strip()\n",
        "                    design_lengths.add(len(designed_seq))\n",
        "                    extracted_sequences.append(SeqRecord(Seq(designed_seq), id=new_id, description=\"\"))\n",
        "                else:\n",
        "                    print(f\"Warning: No '/' found in sequence {record.id}\")\n",
        "            else:\n",
        "                print(f\"Warning: Could not parse sequence {idx}\")\n",
        "        except Exception as e:\n",
        "            print(f\"Error processing sequence {idx}: {e}\")\n",
        "\n",
        "    if not extracted_sequences:\n",
        "        raise ValueError(\"No valid sequences found in input file\")\n",
        "\n",
        "    SeqIO.write(extracted_sequences, output_file, \"fasta\")\n",
        "    print(f\"Extracted {len(extracted_sequences)} sequences, saved to: {output_file}\")\n",
        "    return extracted_sequences\n",
        "\n",
        "def one_hot_encode(sequences):\n",
        "    \"\"\"One-hot encode amino acid sequences.\"\"\"\n",
        "    amino_acids = \"ACDEFGHIKLMNPQRSTVWY\"\n",
        "    aa_dict = {aa: i for i, aa in enumerate(amino_acids)}\n",
        "    encoding = np.zeros((len(sequences), len(sequences[0]), len(amino_acids)))\n",
        "\n",
        "    for i, seq in enumerate(sequences):\n",
        "        for j, char in enumerate(seq):\n",
        "            if char in aa_dict:\n",
        "                encoding[i, j, aa_dict[char]] = 1\n",
        "    return encoding.reshape(len(sequences), -1)\n",
        "\n",
        "def compute_distance_matrix(encoded_seqs):\n",
        "    \"\"\"Compute pairwise Hamming distances using parallel processing.\"\"\"\n",
        "    return squareform(pdist(encoded_seqs, metric=\"hamming\"))\n",
        "\n",
        "def create_phylogenetic_tree(distance_matrix, sequence_names, output_dir):\n",
        "    \"\"\"Create and save a phylogenetic tree visualization.\"\"\"\n",
        "    os.makedirs(output_dir, exist_ok=True)\n",
        "    subset_matrix = distance_matrix[:100, :100]\n",
        "    subset_names = sequence_names[:100]\n",
        "    Z = hierarchy.linkage(squareform(subset_matrix), method='average')\n",
        "\n",
        "    plt.figure(figsize=(20, 5))\n",
        "    hierarchy.dendrogram(Z, labels=subset_names, leaf_rotation=90, leaf_font_size=10)\n",
        "    plt.title(\"Sequence Similarity Tree\")\n",
        "    plt.xlabel(\"Sequence ID\")\n",
        "    plt.ylabel(\"Distance\")\n",
        "    plt.tight_layout()\n",
        "    plt.savefig(os.path.join(output_dir, 'sequence_tree.png'), dpi=300)\n",
        "    plt.close()\n",
        "    print(\"Tree visualization saved.\")\n",
        "\n",
        "def analyze_sequences(input_file, output_dir):\n",
        "    \"\"\"Run complete sequence analysis pipeline.\"\"\"\n",
        "    os.makedirs(output_dir, exist_ok=True)\n",
        "    extracted_file = os.path.join(output_dir, \"extracted_sequences.fasta\")\n",
        "    sequences = extract_designed_sequences(input_file, extracted_file)\n",
        "    sequence_list = [str(seq.seq) for seq in sequences]\n",
        "    sequence_names = [seq.id for seq in sequences]\n",
        "\n",
        "    print(\"Encoding sequences...\")\n",
        "    encoded_seqs = one_hot_encode(sequence_list)\n",
        "    print(\"Computing distance matrix...\")\n",
        "    distance_matrix = compute_distance_matrix(encoded_seqs)\n",
        "\n",
        "    print(\"Generating similarity heatmap...\")\n",
        "    plt.figure(figsize=(10, 10))\n",
        "    sns.heatmap(1 - distance_matrix[:50, :50], cmap=\"viridis\", square=True)\n",
        "    plt.title(\"Sequence Similarity Matrix\")\n",
        "    plt.tight_layout()\n",
        "    plt.savefig(os.path.join(output_dir, \"similarity_heatmap.png\"), dpi=300)\n",
        "    plt.close()\n",
        "\n",
        "    print(\"Creating phylogenetic tree...\")\n",
        "    create_phylogenetic_tree(distance_matrix, sequence_names, output_dir)\n",
        "\n",
        "    print(\"Analysis complete. Results saved in\", output_dir)\n",
        "    return sequences, distance_matrix\n",
        "\n",
        "if __name__ == \"__main__\":\n",
        "    input_file = \"/content/drive/MyDrive/Fasta-files/3NOB_90-110/3NOB_90-110_design.fasta\"\n",
        "    output_dir = \"/content/drive/MyDrive/Fasta-files/3NOB_90-110/analysis_output\"\n",
        "    analyze_sequences(input_file, output_dir)\n"
      ]
    },
    {
      "cell_type": "code",
      "source": [],
      "metadata": {
        "id": "UzUBMUKRxWk9"
      },
      "execution_count": null,
      "outputs": []
    }
  ]
}