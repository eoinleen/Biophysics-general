{
  "nbformat": 4,
  "nbformat_minor": 0,
  "metadata": {
    "colab": {
      "provenance": [],
      "mount_file_id": "1lPjxbkny4bDRVNRNTb9BUU4wk5Yg3Sgg",
      "authorship_tag": "ABX9TyPKBL7iNbs15sQ1ko/LlzCI",
      "include_colab_link": true
    },
    "kernelspec": {
      "name": "python3",
      "display_name": "Python 3"
    },
    "language_info": {
      "name": "python"
    }
  },
  "cells": [
    {
      "cell_type": "markdown",
      "metadata": {
        "id": "view-in-github",
        "colab_type": "text"
      },
      "source": [
        "<a href=\"https://colab.research.google.com/github/eoinleen/Biophysics-general/blob/main/Determine-buried-suirface-area-complex-attempt1.ipynb\" target=\"_parent\"><img src=\"https://colab.research.google.com/assets/colab-badge.svg\" alt=\"Open In Colab\"/></a>"
      ]
    },
    {
      "cell_type": "code",
      "execution_count": 12,
      "metadata": {
        "colab": {
          "base_uri": "https://localhost:8080/"
        },
        "id": "Y7QzzKlQmyHL",
        "outputId": "a76308e3-7e23-4588-9449-d909c990a022"
      },
      "outputs": [
        {
          "output_type": "stream",
          "name": "stdout",
          "text": [
            "Requirement already satisfied: biopython in /usr/local/lib/python3.11/dist-packages (1.85)\n",
            "Requirement already satisfied: freesasa in /usr/local/lib/python3.11/dist-packages (2.2.1)\n",
            "Requirement already satisfied: numpy in /usr/local/lib/python3.11/dist-packages (from biopython) (1.26.4)\n",
            "Chain IDs: ['A', 'B']\n",
            "Total Area: 17518.78 Å^2\n",
            "Chain A Area: 9199.03 Å^2\n",
            "Chain B Area: 9336.59 Å^2\n",
            "Buried Surface Area: 1016.84 Å^2\n",
            "Header: HEADER    Built by Microsoft Copilot with help from the user\n"
          ]
        }
      ],
      "source": [
        "# This script calculates the buried surface area (BSA) of a protein given a PDB file with two chains.\n",
        "# It uses the Biopython and FreeSASA libraries to perform the calculations.\n",
        "# The script performs the following steps:\n",
        "# 1. Parses the input PDB file to extract the two chains.\n",
        "# 2. Calculates the surface area of the combined structure using FreeSASA.\n",
        "# 3. Separates the chains and calculates their individual surface areas.\n",
        "# 4. Computes the buried surface area as the difference between the total surface area and the sum of individual chain areas.\n",
        "# 5. Adds a custom header to the output PDB file.\n",
        "# Built by Microsoft Copilot with help from the user\n",
        "\n",
        "# Install the required libraries\n",
        "!pip install biopython freesasa\n",
        "\n",
        "# Import the necessary modules\n",
        "import freesasa\n",
        "from Bio import PDB\n",
        "from Bio.PDB.PDBIO import PDBIO\n",
        "\n",
        "# Define the function to calculate buried surface area\n",
        "def calculate_buried_surface_area(pdb_file):\n",
        "    parser = PDB.PDBParser(QUIET=True)\n",
        "    structure = parser.get_structure('protein', pdb_file)\n",
        "\n",
        "    chains = [chain for chain in structure.get_chains()]\n",
        "    if len(chains) != 2:\n",
        "        raise ValueError(\"PDB file must contain exactly 2 chains\")\n",
        "\n",
        "    chain_ids = [chain.id for chain in chains]\n",
        "    print(f\"Chain IDs: {chain_ids}\")\n",
        "\n",
        "    # Write chain A to a separate PDB file\n",
        "    io = PDBIO()\n",
        "    io.set_structure(chains[0])\n",
        "    chain_a_file = \"chain_A.pdb\"\n",
        "    io.save(chain_a_file)\n",
        "\n",
        "    # Write chain B to a separate PDB file\n",
        "    io.set_structure(chains[1])\n",
        "    chain_b_file = \"chain_B.pdb\"\n",
        "    io.save(chain_b_file)\n",
        "\n",
        "    # Calculate the surface area of the combined structure\n",
        "    structure_with_2_chains = freesasa.Structure(pdb_file)\n",
        "    result = freesasa.calc(structure_with_2_chains)\n",
        "    total_area = result.totalArea()\n",
        "    print(f\"Total Area: {total_area:.2f} Å^2\")\n",
        "\n",
        "    # Calculate the surface area of chain A\n",
        "    chain_a_structure = freesasa.Structure(chain_a_file)\n",
        "    chain_a_result = freesasa.calc(chain_a_structure)\n",
        "    chain1_area = chain_a_result.totalArea()\n",
        "    print(f\"Chain A Area: {chain1_area:.2f} Å^2\")\n",
        "\n",
        "    # Calculate the surface area of chain B\n",
        "    chain_b_structure = freesasa.Structure(chain_b_file)\n",
        "    chain_b_result = freesasa.calc(chain_b_structure)\n",
        "    chain2_area = chain_b_result.totalArea()\n",
        "    print(f\"Chain B Area: {chain2_area:.2f} Å^2\")\n",
        "\n",
        "    buried_surface_area = total_area - (chain1_area + chain2_area)\n",
        "\n",
        "    # Ensure buried surface area is positive\n",
        "    buried_surface_area = abs(buried_surface_area)\n",
        "\n",
        "    return buried_surface_area\n",
        "\n",
        "# Function to add a header to the PDB file\n",
        "def add_header_to_pdb(pdb_file, header_text):\n",
        "    with open(pdb_file, 'r') as file:\n",
        "        content = file.read()\n",
        "\n",
        "    with open(pdb_file, 'w') as file:\n",
        "        file.write(f\"HEADER    {header_text}\\n\")\n",
        "        file.write(content)\n",
        "\n",
        "# Provide the path to your PDB file in Colab\n",
        "pdb_file = '/content/drive/MyDrive/PDB-files/4ash.pdb'  # Update this path to the location of your PDB file in Colab\n",
        "\n",
        "# Calculate the buried surface area\n",
        "buried_surface_area = calculate_buried_surface_area(pdb_file)\n",
        "print(f\"Buried Surface Area: {buried_surface_area:.2f} Å^2\")\n",
        "\n",
        "# Add header to the PDB file\n",
        "header_text = \"Built by Microsoft Copilot with help from the user\"\n",
        "add_header_to_pdb(pdb_file, header_text)\n",
        "\n",
        "# Verify header\n",
        "with open(pdb_file, 'r') as file:\n",
        "    header = file.readline().strip()\n",
        "    print(f\"Header: {header}\")\n"
      ]
    }
  ]
}